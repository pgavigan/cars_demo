{
 "cells": [
  {
   "cell_type": "markdown",
   "id": "9314e9a9",
   "metadata": {},
   "source": [
    "# TASK 1 - Build a function that converts a labelled dataset into labelled and unlabelled subsets.\n",
    "\n",
    "The function uses sklearn's train_test_split function. This function guarantees that there is at least one element of each class in the resulting split. The X values input to the split function are the indices of the labels. The indices and labels are all returned by the function."
   ]
  },
  {
   "cell_type": "code",
   "execution_count": 180,
   "id": "14810870",
   "metadata": {},
   "outputs": [
    {
     "name": "stdout",
     "output_type": "stream",
     "text": [
      "Sample labels: [1, 1, 2, 2, 3, 3, 1, 2, 3]\n",
      "Indices of labels for the labelled subset: [1, 7, 6, 4]\n",
      "Labels of the labelled subset: [1, 2, 1, 3]\n",
      "Indices of labels for the unlabelled subset: [0, 3, 2, 8, 5]\n",
      "Labels of the unlabelled subset: [1, 2, 2, 3, 3]\n"
     ]
    }
   ],
   "source": [
    "from random import choice\n",
    "import numpy as np\n",
    "from sklearn.model_selection import train_test_split\n",
    "\n",
    "# proportion represents the how much of the dataset should be unlabelled\n",
    "def getLabelledAndUnlabelledSubsets(dataset_labels, proportion):\n",
    "    indices = list(range(len(dataset_labels)))\n",
    "    index_labelled, index_unlabelled, y_labelled, y_unlabelled = train_test_split(indices, \n",
    "                                                                                  dataset_labels, test_size = proportion)\n",
    "    return (index_labelled, index_unlabelled, y_labelled, y_unlabelled)\n",
    "\n",
    "# DEMO\n",
    "sampleLabels = [1,1,2,2,3,3,1,2,3]\n",
    "proportion = 0.5\n",
    "(index_labelled, index_unlabelled, y_labelled, y_unlabelled) = getLabelledAndUnlabelledSubsets(sampleLabels,proportion)\n",
    "\n",
    "print(\"Sample labels: \" + str(sampleLabels))\n",
    "print(\"Indices of labels for the labelled subset: \" + str(index_labelled))\n",
    "print(\"Labels of the labelled subset: \" + str(y_labelled))\n",
    "print(\"Indices of labels for the unlabelled subset: \" + str(index_unlabelled))\n",
    "print(\"Labels of the unlabelled subset: \" + str(y_unlabelled))"
   ]
  },
  {
   "cell_type": "markdown",
   "id": "0ae1786b",
   "metadata": {},
   "source": [
    "# TASK 2 - Data cleaning\n",
    "\n",
    "Image data expected in the 'carData' folder. This function uses os.listdir to get a list of the files in the folder. It then iterates through the files and checks the dimentions of the image (the shape of the numpy object). Images that don't have three channels are deleted. A list of the names of the files that have been deleted are returned (in case that information is needed)."
   ]
  },
  {
   "cell_type": "code",
   "execution_count": 75,
   "id": "d0fba5fa",
   "metadata": {},
   "outputs": [
    {
     "name": "stdout",
     "output_type": "stream",
     "text": [
      "Number of labelled images after cleaning: 8126\n"
     ]
    }
   ],
   "source": [
    "import numpy as np\n",
    "import matplotlib.image as mpimg\n",
    "import os\n",
    "\n",
    "def cleanImages(path):\n",
    "    files = os.listdir(path)\n",
    "    filesRemoved = list()\n",
    "    for file in files:\n",
    "        imagePath = os.path.join(path, file)\n",
    "        image = mpimg.imread(imagePath)\n",
    "        shape = np.shape(image)\n",
    "        if (len(shape) != 3):\n",
    "            filesRemoved.append(file)\n",
    "            os.remove(imagePath)\n",
    "        else:\n",
    "            (_,_,numChannels) = shape\n",
    "            if numChannels != 3:\n",
    "                filesRemoved.append(file)\n",
    "                os.remove(imagePath)\n",
    "    return filesRemoved\n",
    "\n",
    "# DEMO\n",
    "trainPath = 'cars_train/'\n",
    "print(\"Number of labelled images after cleaning: \" + str(len(os.listdir(trainPath))))"
   ]
  },
  {
   "cell_type": "markdown",
   "id": "8089219b",
   "metadata": {},
   "source": [
    "# TASK 3 - Dataset representation\n",
    "\n",
    "Load the mat file with the labels, then load resnet18 and change the last layer to an Identity layer.\n",
    "\n",
    "Next, iterate through the files and build the dictionary, as defined.\n",
    "Finally, the model is saved to the 'task3Dict.pt' file\n",
    "\n",
    "NOTE: The mat file README said that the mat file should have several parameters for each image. This was not found to be accurate. Instead I found the train_perfect_preds.txt file and assumed that these were the class labels."
   ]
  },
  {
   "cell_type": "code",
   "execution_count": 65,
   "id": "36a03f07",
   "metadata": {
    "scrolled": true
   },
   "outputs": [
    {
     "name": "stderr",
     "output_type": "stream",
     "text": [
      "Using cache found in C:\\Users\\Patrick/.cache\\torch\\hub\\pytorch_vision_v0.10.0\n"
     ]
    },
    {
     "name": "stdout",
     "output_type": "stream",
     "text": [
      "Task 3 model file saved\n"
     ]
    }
   ],
   "source": [
    "import torch\n",
    "import torch.nn.modules.linear\n",
    "from PIL import Image\n",
    "import torchvision.transforms.functional as TF\n",
    "import os\n",
    "from os import path\n",
    "import json\n",
    "\n",
    "def loadData(labelledImagePath, labelPath):\n",
    "    labels = [int(line.strip()) for line in open(labelPath, 'r')]\n",
    "    model = torch.hub.load('pytorch/vision:v0.10.0', 'resnet18', pretrained=True)\n",
    "    model.fc = torch.nn.Identity()\n",
    "    dataset = {} \n",
    "    files = os.listdir(labelledImagePath)\n",
    "    i = 0\n",
    "    for file in files:\n",
    "        imagePath = os.path.join(labelledImagePath, file)\n",
    "        image = Image.open(imagePath)\n",
    "        x = TF.to_tensor(image)\n",
    "        x.unsqueeze_(0) # Set batch size to 1, only 1 image (dummy dimention)\n",
    "        with torch.no_grad():\n",
    "            embed = model(x)\n",
    "        embed = embed.squeeze(0) # Remove dummy dimention\n",
    "        currentImageDict = {}\n",
    "        currentImageDict['embedding'] = embed\n",
    "        imageIndex = files[i].split(\".\")[0]\n",
    "        currentImageDict['class_idx'] = labels[int(imageIndex)]\n",
    "        currentImageDict['labelled'] = True\n",
    "        dataset[i] = currentImageDict\n",
    "        i = i + 1\n",
    "    dictFileName = 'task3Dict.pt'\n",
    "    torch.save(dataset, dictFileName)\n",
    "    return\n",
    "\n",
    "labelledImagePath = 'C:/Users/Patrick/Documents/GitHub/statsCanExam/cars_train/'\n",
    "labelPath = 'C:/Users/Patrick/Documents/GitHub/statsCanExam/devkit/train_perfect_preds.txt'\n",
    "loadData(labelledImagePath, labelPath)\n",
    "print(\"Task 3 model file saved\")"
   ]
  },
  {
   "cell_type": "markdown",
   "id": "bddea6b0",
   "metadata": {},
   "source": [
    "# TASK 4 - Build a partially labelled dataset\n",
    "\n",
    "Using the function from Task 1, and the processed dataset from Task 3, create a dataset with only 40% of the data being labelled, and 60% unlabelled. "
   ]
  },
  {
   "cell_type": "code",
   "execution_count": 219,
   "id": "21cbe1f4",
   "metadata": {},
   "outputs": [
    {
     "name": "stdout",
     "output_type": "stream",
     "text": [
      "# labelled elements: 3250\n",
      "# unlabelled elements: 4876\n",
      "Testing proportion: 0.6000492247108048\n",
      "Task 4 complete, 8126 elements\n"
     ]
    }
   ],
   "source": [
    "dataset = torch.load('task3Dict.pt')\n",
    "indices = list(dataset.keys())\n",
    "proportion = 0.6\n",
    "(index_labelled, index_unlabelled, y_labelled, y_unlabelled) = getLabelledAndUnlabelledSubsets(indices, proportion)\n",
    "\n",
    "for index in index_unlabelled:\n",
    "    dataset[index]['labelled'] = False\n",
    "\n",
    "print(\"# labelled elements: \" + str(len(index_labelled)))\n",
    "print(\"# unlabelled elements: \" + str(len(index_unlabelled)))\n",
    "print(\"Testing proportion: \" + str(len(index_unlabelled) / len(dataset.keys())))\n",
    "print(\"Task 4 complete, \" + str(len(dataset.keys())) + \" elements\")"
   ]
  },
  {
   "cell_type": "markdown",
   "id": "0a34171e",
   "metadata": {},
   "source": [
    "# TASK 5 - Create train/validation split\n",
    "\n",
    "Create a function that takes two arguments, dataset_inputs and dataset_labels, and a float between [0,1], “training_proportion”. This function will take a dataset (inputs and labels) and split it into training and validation by the training_proportion. The function returns 4 objects, training_inputs, training_labels, test_inputs, test_labels.\n",
    "\n",
    "Solution: Simply use train_test_split from scikit learn. Note that scikit learn uses a test size instead of a training propostion. Test size = 1 - training proportion"
   ]
  },
  {
   "cell_type": "code",
   "execution_count": 220,
   "id": "412240f3",
   "metadata": {},
   "outputs": [],
   "source": [
    "def getTrainingProportion(dataset_inputs, dataset_labels, training_proportion):\n",
    "    training_inputs, test_inputs, training_labels, test_labels = train_test_split(dataset_inputs, \n",
    "                                                                                  dataset_labels,\n",
    "                                                                                  test_size = 1-training_proportion)\n",
    "    return (training_inputs, training_labels, test_inputs, test_labels)"
   ]
  },
  {
   "cell_type": "markdown",
   "id": "3a94cbc1",
   "metadata": {},
   "source": [
    "# TASK 6 - Create experiment(s) to convince clients that more labelled data will improve model performance\n",
    "\n",
    "Do a train and validate with a small labelled set and another with a larger labelled set.\n",
    "\n",
    "Although a larger labelled data set should result in better performance, this is not what we are seeing. I am suspicious of the labels as they were not structured as specified in the dataset documentation."
   ]
  },
  {
   "cell_type": "code",
   "execution_count": 227,
   "id": "14f726b1",
   "metadata": {},
   "outputs": [
    {
     "name": "stdout",
     "output_type": "stream",
     "text": [
      "Training...\n",
      "Testing...\n",
      "Training...\n",
      "Testing...\n",
      "Training...\n",
      "Testing...\n",
      "Training...\n",
      "Testing...\n",
      "Training...\n",
      "Testing...\n",
      "Training...\n",
      "Testing...\n",
      "Training...\n",
      "Testing...\n",
      "Training...\n",
      "Testing...\n",
      "Training...\n",
      "Testing...\n",
      "Training...\n",
      "Testing...\n",
      "Training...\n",
      "Testing...\n",
      "Training...\n",
      "Testing...\n",
      "Training...\n",
      "Testing...\n",
      "Training...\n",
      "Testing...\n",
      "Training...\n",
      "Testing...\n",
      "Training...\n",
      "Testing...\n",
      "Training...\n",
      "Testing...\n",
      "Training...\n",
      "Testing...\n",
      "Training...\n",
      "Testing...\n",
      "Training...\n",
      "Testing...\n"
     ]
    },
    {
     "data": {
      "text/plain": [
       "[Text(0.5, 0, 'training_proportions'),\n",
       " Text(0, 0.5, 'accuracy'),\n",
       " Text(0.5, 1.0, 'More labeled data results in better accuracy, when tested with the training data')]"
      ]
     },
     "execution_count": 227,
     "metadata": {},
     "output_type": "execute_result"
    },
    {
     "data": {
      "image/png": "[encoded data removed]",
      "text/plain": [
       "<Figure size 640x480 with 1 Axes>"
      ]
     },
     "metadata": {},
     "output_type": "display_data"
    },
    {
     "data": {
      "image/png": "[encoded data removed]",
      "text/plain": [
       "<Figure size 640x480 with 1 Axes>"
      ]
     },
     "metadata": {},
     "output_type": "display_data"
    }
   ],
   "source": [
    "import numpy as np\n",
    "from sklearn.linear_model import SGDClassifier\n",
    "from sklearn.preprocessing import StandardScaler\n",
    "from sklearn.pipeline import make_pipeline\n",
    "import matplotlib.pyplot as plt\n",
    "\n",
    "def loadLabelledData(dataset):\n",
    "    dataset_inputs = list()\n",
    "    dataset_labels = list()\n",
    "    for key in dataset.keys():\n",
    "        currentElement = dataset[key]\n",
    "        if currentElement['labelled']:\n",
    "            dataset_inputs.append(currentElement['embedding'].numpy())\n",
    "            dataset_labels.append(currentElement['class_idx'])\n",
    "    return (dataset_inputs, dataset_labels)\n",
    "\n",
    "def get_SGD_accuracy(training_proportion, training_inputs, training_labels, testing_inputs, testing_labels):\n",
    "    \n",
    "    if training_proportion < 1:\n",
    "        (training_inputs, training_labels, _, _) = getTrainingProportion(training_inputs, training_labels, training_proportion)\n",
    "    X = np.array(training_inputs)\n",
    "    Y = np.array(training_labels)\n",
    "\n",
    "    print(\"Training...\")\n",
    "    clf = make_pipeline(StandardScaler(), SGDClassifier(max_iter=1000, loss = 'modified_huber')) # loss chosen for predict_proba to work\n",
    "    clf.fit(X, Y)\n",
    "\n",
    "    X = np.array(testing_inputs)\n",
    "    Y = np.array(testing_labels)\n",
    "    \n",
    "    print(\"Testing...\")\n",
    "    accuracy = clf.score(X, Y)\n",
    "    \n",
    "    return(accuracy, clf)\n",
    "\n",
    "\n",
    "(dataset_inputs, dataset_labels) = loadLabelledData(dataset)\n",
    "\n",
    "# Seperate a training and validation data set - always 20 percent for a hold out test\n",
    "validationProportion = 0.2\n",
    "(training_inputs, training_labels, testing_inputs, testing_labels) = getTrainingProportion(dataset_inputs,\n",
    "                                                                                           dataset_labels,\n",
    "                                                                                           validationProportion)\n",
    "\n",
    "accuracies = list()\n",
    "training_proportions = [0.1, 0.2, 0.3, 0.4, 0.5, 0.6, 0.7, 0.8, 0.9, 0.99]\n",
    "for training_proportion in training_proportions:\n",
    "    (currentAccuracy, _) = get_SGD_accuracy(training_proportion, training_inputs, training_labels, testing_inputs, testing_labels)\n",
    "    accuracies.append(currentAccuracy)\n",
    "\n",
    "fig, ax = plt.subplots()\n",
    "ax.plot(np.array(training_proportions), np.array(accuracies))\n",
    "ax.set(xlabel='training_proportions', ylabel='accuracy', title='More labeled data should results in better accuracy, but model is not generalizing')\n",
    "\n",
    "accuracies = list()\n",
    "training_proportions = [0.1, 0.2, 0.3, 0.4, 0.5, 0.6, 0.7, 0.8, 0.9, 0.99]\n",
    "for training_proportion in training_proportions:\n",
    "    (currentAccuracy, _) = get_SGD_accuracy(training_proportion, training_inputs, training_labels, training_inputs, training_labels)\n",
    "    accuracies.append(currentAccuracy)\n",
    "\n",
    "fig, ax = plt.subplots()\n",
    "ax.plot(np.array(training_proportions), np.array(accuracies))\n",
    "ax.set(xlabel='training_proportions', ylabel='accuracy', title='More labeled data results in better accuracy, when tested with the training data')"
   ]
  },
  {
   "cell_type": "markdown",
   "id": "91336055",
   "metadata": {},
   "source": [
    "# TASK 7 - Active learning to select new instances to be labelled\n",
    "\n",
    "Your clients have agreed to label an additional 25% of the dataset (to a total of 65% of the original dataset). \n",
    "\n",
    "Using the model trained on 40% of the data and the unlabelled inputs, use predict_proba function of your sklearn.linear_model.SGDClassifier model to get the probability scores for each class on your unlabelled instances. Use from scipy.stats entropy to compute the entropy of the predictions for the unlabelled instances. Select the K instances with the highest entropy for labelling, where K is the remaining number of instances that will bring your total labelled dataset to 65%. This will be added to the labelled subset and will be your ‘final’ dataset.\n",
    "\n",
    "NOTE: Since the original dataset is fully labelled, just use the true labels from the original dataset. Hence, keeping track of indices of instances will have been important for the earlier instructions. "
   ]
  },
  {
   "cell_type": "code",
   "execution_count": 222,
   "id": "3df374b3",
   "metadata": {},
   "outputs": [
    {
     "name": "stdout",
     "output_type": "stream",
     "text": [
      "# Unlabelled elements4876\n",
      "Getting the probabilities\n",
      "Getting the entropies\n",
      "desiredProprtion: 0.65\n",
      "Needed: 0.25\n",
      "training_proportion: 0.4\n",
      "len(dataset.keys(): 8126\n",
      "numNewData: 2031\n",
      "# Entropies: 4876\n",
      "# new data elements needed: 2031\n",
      "2031 new elements have been marked as labelled\n"
     ]
    }
   ],
   "source": [
    "import numpy as np\n",
    "from sklearn.linear_model import SGDClassifier\n",
    "from sklearn.preprocessing import StandardScaler\n",
    "from sklearn.pipeline import make_pipeline\n",
    "import matplotlib.pyplot as plt\n",
    "from scipy.stats import entropy\n",
    "\n",
    "def loadUnlabelledData(dataset):\n",
    "    dataset_inputs = list()\n",
    "    dataset_labels = list()\n",
    "    indices = list()\n",
    "    for key in dataset.keys():\n",
    "        currentElement = dataset[key]\n",
    "        if currentElement['labelled'] == False:\n",
    "            dataset_inputs.append(currentElement['embedding'].numpy())\n",
    "            dataset_labels.append(currentElement['class_idx'])\n",
    "            indices.append(key)\n",
    "    return (dataset_inputs, dataset_labels, indices)\n",
    "\n",
    "# Setup the model\n",
    "(dataset_inputs, dataset_labels) = loadLabelledData(dataset)\n",
    "X = np.array(dataset_inputs)\n",
    "Y = np.array(dataset_labels)\n",
    "clf = make_pipeline(StandardScaler(), SGDClassifier(max_iter=1000, loss = 'modified_huber')) # loss chosen for predict_proba to work\n",
    "clf.fit(X, Y)\n",
    "\n",
    "# Get the unlabelled data\n",
    "(unlabelled_inputs, _, indices) = loadUnlabelledData(dataset)\n",
    "\n",
    "print(\"# Unlabelled elements\" + str(len(unlabelled_inputs)))\n",
    "\n",
    "# Get the entropies\n",
    "entropies = list()\n",
    "X = np.array(unlabelled_inputs)\n",
    "print(\"Getting the probabilities\")\n",
    "probabilities = clf.predict_proba(X)\n",
    "print(\"Getting the entropies\")\n",
    "for i in range(probabilities.shape[0]):\n",
    "    entropies.append(entropy(probabilities[i]))\n",
    "\n",
    "desiredProportion = 0.65\n",
    "training_proportion = 0.4\n",
    "needed = desiredProportion - training_proportion\n",
    "numNewData = int(needed * len(dataset.keys()))\n",
    "\n",
    "print(\"desiredProprtion: \" + str(desiredProportion))\n",
    "print(\"Needed: \" + str(needed))\n",
    "print(\"training_proportion: \" + str(training_proportion))\n",
    "print(\"len(dataset.keys(): \" + str(len(dataset.keys())))\n",
    "print(\"numNewData: \" + str(numNewData))\n",
    "\n",
    "# Go through the data elements and switch the flag to labelled\n",
    "print(\"# Entropies: \" + str(len(entropies)))\n",
    "print(\"# new data elements needed: \" + str(numNewData))\n",
    "highestEntropyIndices = np.argpartition(np.array(entropies), numNewData)\n",
    "for key in highestEntropyIndices:\n",
    "    dataset[key]['labelled'] = True\n",
    "    \n",
    "print(str(numNewData) + \" new elements have been marked as labelled\")"
   ]
  },
  {
   "cell_type": "markdown",
   "id": "411edae8",
   "metadata": {},
   "source": [
    "# TASK 8 - Final model training and evaluation\n",
    "\n",
    "You now have additional labelled data.\n",
    "\n",
    "Using your training dataset, train a final model and then use it to evaluate your model on your hold out validation dataset. \n",
    "\n",
    "Explain your results and your implementation.\n",
    "\n",
    "Q: Based on your evaluation, was the decision to label more instances a good one?\n",
    "A: It's never a bad idea to get more labelled data.\n",
    "\n",
    "Q: Report the final performance.\n",
    "A: Final performance was worse than random. I am suspicious of an issue with the labels, as the loation of the labels did not match the README file in the dataset. To check this, I did try a test where I ran the same data for both training and testing and found that the model could provide a good accuracy. This meant the model was learning the data but not generalizing. Additional investigation is needed (although there is not enough time before the deadline) to better understand what is causing this issue."
   ]
  },
  {
   "cell_type": "code",
   "execution_count": 224,
   "id": "8f26fa9e",
   "metadata": {},
   "outputs": [
    {
     "name": "stdout",
     "output_type": "stream",
     "text": [
      "# of training elements: 6188\n",
      "# of testing elements: 1938\n",
      "Training...\n",
      "Testing...\n",
      "Final model accuracy was: 0.006707946336429308\n"
     ]
    },
    {
     "name": "stderr",
     "output_type": "stream",
     "text": [
      "C:\\Users\\Patrick\\anaconda3\\envs\\kerasGPU\\lib\\site-packages\\sklearn\\linear_model\\_stochastic_gradient.py:700: ConvergenceWarning: Maximum number of iteration reached before convergence. Consider increasing max_iter to improve the fit.\n",
      "  ConvergenceWarning,\n"
     ]
    }
   ],
   "source": [
    "(training_inputs, training_labels) = loadLabelledData(dataset)\n",
    "(testing_inputs, testing_labels, _) = loadUnlabelledData(dataset)\n",
    "\n",
    "print(\"# of training elements: \" + str(len(training_inputs)))\n",
    "print(\"# of testing elements: \" + str(len(testing_inputs)))\n",
    "\n",
    "training_proportion = 1\n",
    "(finalAccuracy,_) = get_SGD_accuracy(training_proportion, training_inputs, training_labels, testing_inputs, testing_labels)\n",
    "\n",
    "print(\"Final model accuracy was: \" + str(finalAccuracy))"
   ]
  },
  {
   "cell_type": "code",
   "execution_count": null,
   "id": "be1b0a86",
   "metadata": {},
   "outputs": [],
   "source": []
  }
 ],
 "metadata": {
  "kernelspec": {
   "display_name": "Python 3 (ipykernel)",
   "language": "python",
   "name": "python3"
  },
  "language_info": {
   "codemirror_mode": {
    "name": "ipython",
    "version": 3
   },
   "file_extension": ".py",
   "mimetype": "text/x-python",
   "name": "python",
   "nbconvert_exporter": "python",
   "pygments_lexer": "ipython3",
   "version": "3.7.13"
  }
 },
 "nbformat": 4,
 "nbformat_minor": 5
}
